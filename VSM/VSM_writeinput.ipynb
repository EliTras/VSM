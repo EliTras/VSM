{
 "cells": [
  {
   "cell_type": "markdown",
   "metadata": {},
   "source": [
    "<img src=\"VSM_logo.gif\" width=\"500\" align=\"center\">"
   ]
  },
  {
   "cell_type": "markdown",
   "metadata": {
    "tags": []
   },
   "source": [
    "# VSM - Volcanic and Seismic source Modelling\n",
    "### Version 1.0\n",
    "\n",
    "**VSM - Volcanic and Seismic source Modelling** is a Python tool to perform inversions of geodetic data.\n",
    "\n",
    "**Code** https://github.com/EliTras/VSM \\\n",
    "**License** E. Trasatti - INGV (elisa.trasatti@ingv.it), covered by GNU-GPL License https://github.com/EliTras/VSM/blob/main/license.lic\n",
    "\n",
    "This Notebook is a guide to create the input file for VSM. The last cells run VSM."
   ]
  },
  {
   "cell_type": "markdown",
   "metadata": {},
   "source": [
    "Input\n",
    "- data\n",
    "- forward model(s)\n",
    "- inversion settings\n",
    "\n",
    "... Before to start let's decide\n",
    "- working folder\n",
    "- name of the input file to be written in that folder (and where results will be stored)\n",
    "\n",
    "If it's the very first time, it is strongly suggested to create a dedicated environment. The libraries needed by VSM are listed in requirements.txt (numpy, pandas, matplotlib, corner, emcee, pyshp, jupyterlab, cartopy). Instructions in readme.txt."
   ]
  },
  {
   "cell_type": "code",
   "execution_count": null,
   "metadata": {},
   "outputs": [],
   "source": [
    "import os\n",
    "import numpy as np"
   ]
  },
  {
   "cell_type": "markdown",
   "metadata": {},
   "source": [
    "## Filename\n",
    "Add the path of the working folder and the name of the VSM input file to be created."
   ]
  },
  {
   "cell_type": "code",
   "execution_count": null,
   "metadata": {},
   "outputs": [],
   "source": [
    "# path of the working folder\n",
    "folder_inout = '../USECASE/mogi1NA'\n",
    "filename_in = 'VSM_input_mogi.txt'"
   ]
  },
  {
   "cell_type": "markdown",
   "metadata": {},
   "source": [
    "## Input data\n",
    "Input data may be either displacements (m) or velocities (m/yr). If more than an input file is considered, of course the unit must be the same (all displacements or all velocities). For all datapoints, *East* and *North* are the coordinates (metric, preferred system is projected UTM).\n",
    "Accepted data types are\n",
    "- InSAR\n",
    "- GNSS\n",
    "- Levelling\n",
    "- EDM\n",
    "- Tilt\n",
    "- Strain\n",
    "\n",
    "### InSAR\n",
    "This data refers to InSAR data, both single inferterograms or multi-temporal InSAR. Results are typycally in terms of cumulative displacements or annual velocities. The InSAR maps are usually made of thounsands of pixels so it is needed to downsample the dataset first. VSM uses downsampled InSAR datasets.\n",
    "- up to 10 datasets from different sensors or missions\n",
    "- a single data file is inserted as ` path/sarfile.txt `\n",
    "- for multiple datasets just leave a blank between fullpath names ` path/sarfile1.txt path/sarfile2.txt `\n",
    "- accepted formats are comma separated files (.csv), plain text (.txt), ESRI Shapefile (.shp). Ascii files may come with or without header in the first line\n",
    "- format of columns\n",
    "       East North Data Error LOS_E LOS_N LOS_Z\n",
    "       \n",
    "where *Data* is the LOS (Line of Sight) displacement or velocity. *LOS_E*, *LOS_N*, *LOS_Z* are the East, North and vertical components of the versor of the Line of Sight of the sensor.\n",
    "\n",
    "### GNSS\n",
    "GNSS data are typically composed of 3D displacement or mean velocity at each benchmark.\n",
    "- the data file is inserted as ` path/gpsfile.txt `\n",
    "- accepted formats are comma separated files (.csv), plain text (.txt), ESRI Shapefiles (.shp). Ascii files may come with or without header in the first line\n",
    "- one row for each station\n",
    "- format of columns\n",
    "       East North Data_E Data_N Data_Z Error_E Error_N Error_Z\n",
    "\n",
    "where *Data_E* is the East component of the displacement or velocity. Same applies to the North (N) and vertical (Z) components and to the error associated.\n",
    "\n",
    "### Levelling\n",
    "Levelling data are the difference in the elevation of benchmarks in a given time window.\n",
    "- the data file is inserted as ` path/levfile.txt `\n",
    "- accepted formats are comma separated files (.csv), plain text (.txt), ESRI Shapefiles (.shp). Ascii files may come with or without header in the first line\n",
    "- format of columns\n",
    "       East North Data Error\n",
    "\n",
    "where *Data* is the different of elevation in the given time period.\n",
    "\n",
    "### EDM\n",
    "EDM (Electro-optical Distance Measuring) technique measures the difference in the horizontal position between two benchmarks.\n",
    "- the data file is inserted as ` path/edmfile.txt `\n",
    "- accepted formats are comma separated files (.csv), plain text (.txt), ESRI Shapefiles (.shp). Ascii files may come with or without header in the first line\n",
    "- format of columns\n",
    "       East1 North1 East2 North2 Data Error\n",
    "\n",
    "Each row lists the coordinates of the start (1) and end (2) benchmarks. *Data* is one single value, representing the change in the distance between two benchmarks in a given time widow.\n",
    "\n",
    "### Tilt\n",
    "Tilt is a measure of the displacement gradient. It is the inclination of the vertical along a horizontal direction. The horizontal derivatives of the vertical deformation correspond to the East and North components of tilt. \n",
    "- the data file is inserted as ` path/tiltfile.txt `\n",
    "- accepted formats are comma separated files (.csv), plain text (.txt), ESRI Shapefiles (.shp). Ascii files may come with or without header in the first line\n",
    "- format of columns\n",
    "       East North Data_E Data_N Error_E Error_N\n",
    "\n",
    "where *Data_E* and *Data_N* are the tilt along East (E) and North (N) directions, and the associated error. If the tiltmeter is not oriented along East or North, data should be projected accordingly. Tilt is non-dimensional and the unit in VSM is microradians (ppm).\n",
    "\n",
    "### Strain\n",
    "Strain is a measure of the displacement gradient. The volumetric strain is the unit change in volume, i.e. it combines the change of the displacement in the three components. \n",
    "- the data file is inserted as ` path/strainfile.txt `\n",
    "- accepted formats are comma separated files (.csv), plain text (.txt), ESRI Shapefiles (.shp). Ascii files may come with or without header in the first line\n",
    "- format of columns\n",
    "       East North Data Error\n",
    "\n",
    "Strain is non-dimensional and the unit in VSM is microstrains (ppm)."
   ]
  },
  {
   "cell_type": "code",
   "execution_count": null,
   "metadata": {},
   "outputs": [],
   "source": [
    "#Add the input files. By default all file names are 'None'. Set to 'None those unused'\n",
    "\n",
    "# SAR filename(s)\n",
    "sar_file = '../DATA/CF_2011_13/obs_sar1.txt ../DATA/CF_2011_13/obs_sar2.txt'\n",
    "#GNSS filename\n",
    "gps_file = '../DATA/CF_2011_13/obs_gps.txt'\n",
    "# levelling filename\n",
    "lev_file = 'None'\n",
    "# EDM filename\n",
    "edm_file = 'None'\n",
    "#tilt filename\n",
    "tlt_file = 'None'\n",
    "# strain filename\n",
    "srn_file = 'None'"
   ]
  },
  {
   "cell_type": "markdown",
   "metadata": {},
   "source": [
    "### Weights\n",
    "Due to the possibility to combine different datasets, the associated weights can be defined. Weights can be arbitrary. SAR data have a unique weight even if it can be composed of more than one dataset."
   ]
  },
  {
   "cell_type": "code",
   "execution_count": null,
   "metadata": {},
   "outputs": [],
   "source": [
    "# SAR weight\n",
    "sar_weight = 1.\n",
    "# GNSS weight\n",
    "gps_weight = 1.\n",
    "# levelling weight\n",
    "lev_weight = 0.\n",
    "# EDM weight\n",
    "edm_weight = 0.\n",
    "# tilt weight\n",
    "tlt_weight = 0.\n",
    "# strain weight\n",
    "srn_weight = 0."
   ]
  },
  {
   "cell_type": "markdown",
   "metadata": {},
   "source": [
    "###  Start writing the VSM input text file\n",
    "In this step the VSM settings about input/output and data are written in the input file as plain text. Just execute this box!"
   ]
  },
  {
   "cell_type": "code",
   "execution_count": null,
   "metadata": {},
   "outputs": [],
   "source": [
    "f = open(os.path.join(folder_inout,filename_in), \"w\")\n",
    "f.write(folder_inout+'\\n')\n",
    "f.write(sar_file+'\\n'+gps_file+'\\n'+lev_file+'\\n'+edm_file+'\\n'+tlt_file+'\\n'+srn_file+'\\n')\n",
    "f.write(str(sar_weight)+'\\n'+str(gps_weight)+'\\n'+str(lev_weight)+'\\n'+str(edm_weight)+'\\n'+str(tlt_weight)+'\\n'+str(srn_weight)+'\\n');"
   ]
  },
  {
   "cell_type": "markdown",
   "metadata": {},
   "source": [
    "## Forward model\n",
    "VSM accepts the most common analytical forward models of deformation sources usually employed for geodetic data modelling. They can be also combined to create a forward model of up to 10 different sources whose parameters can be constrained by the VSM inversion.\n",
    "Models are\n",
    "- Mogi Point Source (Mogi, 1958)\n",
    "- Mogi Finite Volume (Mc Tigue, 1987)\n",
    "- Penny-shaped Crack (Fialko et al., 2001)\n",
    "- Spheroid (Yang et al., 1988)\n",
    "- Moment Tensor Source (Davis, 1986)\n",
    "- Rectangular Dislocation (Okada, 1985)\n",
    "\n",
    "Each forward source is characterized by specific parameters, whose range for the search should be determined. Coordinates and dimensions are in meters while intensity parameters are in accordance with the data employed. E.g., if data are displacements (meters), the volume variation is in m$^3$, while if ground velocities (m/yr) are used as input data, they lead to volume variation rate (m$^3$/yr). Same applies to overpressure for pressurized sources and amount of slip for the fault model."
   ]
  },
  {
   "cell_type": "markdown",
   "metadata": {},
   "source": [
    "**Additional info**\n",
    "\n",
    "Initially, it must be defined\n",
    "- elastic constants (shear modulus and Poisson ratio)\n",
    "- total number of sources"
   ]
  },
  {
   "cell_type": "code",
   "execution_count": null,
   "metadata": {},
   "outputs": [],
   "source": [
    "# shear modulus (Pa)\n",
    "mu = 5e10\n",
    "# Poisson ratio\n",
    "ni = 0.25\n",
    "\n",
    "# number of sources\n",
    "num_sources = 1\n",
    "\n",
    "# write this part in the input file\n",
    "f.write(str(mu)+'\\n')\n",
    "f.write(str(ni)+'\\n')\n",
    "f.write(str(num_sources)+'\\n');"
   ]
  },
  {
   "cell_type": "markdown",
   "metadata": {},
   "source": [
    "### Definition of forward model\n",
    "\n",
    "Define the sources with the range of search for each parameter. For each chosen source it must be reported the list of the parameters with minimum and maximum (minimum $<=$ maximum). To fix a parameter, just choose minimum and maximum equal to the desired value. \n",
    "\n",
    "Each forward model is identified by a number from 0 to 5. Below are reported details on parameters and a sample of instructions to copy and paste in the code cells. The depth is positive.\n",
    "\n",
    "#### Mogi Point Source\n",
    "**Model 0** The Mogi (1958) point source model represents an isotropic point source. Parameters:\n",
    "- East coordinate of the source center\n",
    "- North coordinate of the source center\n",
    "- Depth of the source source center\n",
    "- Volume variation\n",
    "\n",
    "*Code* \\\n",
    "`east = (0,0)` \\\n",
    "`north = (0,0)` \\\n",
    "`depth  = (0,0)` \\\n",
    "`Dvol  = (0,0)` \\\n",
    "`bounds = [east, north, depth, Dvol] `\n",
    "\n",
    "#### Mogi Finite Volume\n",
    "**Model 1** The McTigue (1987) finite volume model is an evolution of the Mogi model and represents a spherical source with finite volume. Parameters:\n",
    "- East coordinate of the source center\n",
    "- North coordinate of the source center\n",
    "- Depth of the source center\n",
    "- Radius of the sphere\n",
    "- $\\Delta P/ \\mu$ (Overpressure vs shear modulus ratio)\n",
    "\n",
    "*Note* \\\n",
    "$\\Delta P/ \\mu$ is adimensional.\n",
    "\n",
    "*Code* \\\n",
    "`east = (0,0)` \\\n",
    "`north = (0,0)` \\\n",
    "`depth  = (0,0)` \\\n",
    "`radius  = (0,0)` \\\n",
    "`DP_mu  = (0,0)` \\\n",
    "`bounds = [east, north, depth, radius, DP_mu] `\n",
    "\n",
    "#### Penny-shaped crack\n",
    "**Model 2** The penny shaped crack (Fialko et al., 2001) is a disk with a radius and no vertical extension. Parameters:\n",
    "- East coordinate of the disk center\n",
    "- North coordinate of the disk center\n",
    "- Depth of the disk center\n",
    "- Radius of the disk\n",
    "- $\\Delta P/ \\mu$ (Overpressure vs shear modulus ratio)\n",
    "\n",
    "*Note* \\\n",
    "$\\Delta P/ \\mu$  is adimensional.\n",
    "\n",
    "*Code* \\\n",
    "`east = (0,0)` \\\n",
    "`north = (0,0)` \\\n",
    "`depth  = (0,0)` \\\n",
    "`radius  = (0,0)` \\\n",
    "`DP_mu  = (0,0)` \\\n",
    "`bounds = [east, north, depth, radius, DP_mu] `\n",
    "\n",
    "#### Spheroid\n",
    "**Model 3** The spheroid (Yang et al., 1988) is a finite-volume cavity with a constant overpressure on the boundary. It can be arbitrarily oriented in space Parameters:\n",
    "- East coordinate of the source center\n",
    "- North coordinate of the source center\n",
    "- Depth of the source center\n",
    "- Semi-major axis\n",
    "- Ratio of semi-minor vs semi-major axes\n",
    "- $\\Delta P/ \\mu$ (Overpressure vs shear modulus ratio)\n",
    "- Strike angle\n",
    "- Dip angle\n",
    "\n",
    "*Note* \\\n",
    "The ratio is < 1. $\\Delta P/ \\mu$  is adimensional. The strike is considered according to Yang et al. (1988), i.e., degrees clockwise from East. It means if the spheroid dips to East the strike = 0°, if it dips to North the strike = 90° etc. The dip angle is 0° = horizontal 90°= vertical.\n",
    "\n",
    "*Code* \\\n",
    "`east = (0,0)` \\\n",
    "`north = (0,0)` \\\n",
    "`depth  = (0,0)` \\\n",
    "`axis  = (0,0)` \\\n",
    "`ratio  = (0,0)` \\\n",
    "`DP_mu  = (0,0)` \\\n",
    "`strike  = (0,0)` \\\n",
    "`dip  = (0,0)` \\\n",
    "`bounds = [east, north, depth, axis, ratio, DP_mu, strike, dip] `\n",
    "\n",
    "#### Moment tensor\n",
    "**Model 4** The moment tensor source (Davis, 1986) is a general point source defined by a combination of dipoles and double forces, P$_{ij}$. The diagonal elements of the P$_{ij}$ matrix are the dipoles, and the off-diagonal are the double-couples according to cartersian coordinates. It may represent a sphere (three equal dipoles), a dislocation (double couple), and a subset of the possible combination of the component may represent an equivalent triaxial elliposid arbitrary oriented. The P$_{ij}$ matrix must be interpreted following the tables in Davis (1986), to find the aspect ratio of the equivalent ellipsoid and its orientation. Parameters:\n",
    "- East coordinate of the source center\n",
    "- North coordinate of the source center\n",
    "- Depth of the source center\n",
    "- P$_{xx}$\n",
    "- P$_{yy}$\n",
    "- P$_{zz}$\n",
    "- P$_{xy}$\n",
    "- P$_{yz}$\n",
    "- P$_{zx}$\n",
    "\n",
    "*Note* \\\n",
    "According to Davis (1986), the P$_{ij}$ matrix is expressed in Pa multiplied by volume vs shear modulus.\n",
    "\n",
    "*Code* \\\n",
    "`east = (0,0)` \\\n",
    "`north = (0,0)` \\\n",
    "`depth  = (0,0)` \\\n",
    "`Pxx  = (0,0)` \\\n",
    "`Pyy  = (0,0)` \\\n",
    "`Pzz  = (0,0)` \\\n",
    "`Pxy  = (0,0)` \\\n",
    "`Pyz  = (0,0)` \\\n",
    "`Pzx  = (0,0)` \\\n",
    "`bounds = [east, north, depth, Pxx, Pyy, Pzz, Pxy, Pyz, Pzx] `\n",
    "\n",
    "#### Rectangular dislocation\n",
    "**Model 5** The  dislocation model (Okada, 1985) is a rectangular plane undergoing shear slip (along dip and/or strike) and/or tensile opening/closing. Two configurations are available. The first one considers strike-slip and dip-slip on the fault plane, while the other uses the total slip and the rake angle. Parameters:\n",
    "- East coordinate of the top left corner\n",
    "- North coordinate of the top left corner\n",
    "- Depth of the top\n",
    "- Length\n",
    "- Width\n",
    "- Strike angle\n",
    "- Dip angle\n",
    "- Strike-slip, or, conversely, total slip\n",
    "- Dip-slip, or, conversely, rake angle\n",
    "- Tensile movement\n",
    "\n",
    "*Note* \\\n",
    "The strike angle is the orientation of the plane seen from the top left corner and it is measured according to Okada (1985), from North counter-clockwise, i.e., strike = 0° if the fault plane is oriented North-South and dips to East, strike = 90° if the fault is East-West trending and dips to the South, etc. The tensile movement is > 0 for opening, < 0 for closure.\n",
    "Must specify also 'S' for strike and dip slip, 'R' for total slip and rake (for the generic param1 and param2).\n",
    "\n",
    "*Code* \\\n",
    "`east = (0,0)` \\\n",
    "`north = (0,0)` \\\n",
    "`depth  = (0,0)` \\\n",
    "`length  = (0,0)` \\\n",
    "`width  = (0,0)` \\\n",
    "`strike  = (0,0)` \\\n",
    "`dip  = (0,0)` \\\n",
    "`param1  = (0,0)` \\\n",
    "`param2  = (0,0)` \\\n",
    "`opening  = (0,0)` \\\n",
    "`bounds = [east, north, depth, length, width, strike, dip, param1, param2, opening] `"
   ]
  },
  {
   "cell_type": "code",
   "execution_count": null,
   "metadata": {},
   "outputs": [],
   "source": [
    "# define the source identifier of the forward model\n",
    "# 0=Mogi 1=McTigue 2=Sill 3=Spheroid 4=Ellipsoid 5=Fault/Dike\n",
    "# comment or uncomment the lines needed, based on the number of sources employed\n",
    "sorg_identifier = 0\n",
    "#parameters minimum and maximum (minimum <= maximum)\n",
    "param1 = (422000, 432000)\n",
    "param2 = (4515000,4525000)\n",
    "param3 = (2000,6000)\n",
    "param4 = (1e6, 2e7)\n",
    "bounds = [param1,param2,param3,param4]\n",
    "\n",
    "#Uncomment and define the style ('S' or 'R') in case of Okada (Fault/Dike source)\n",
    "#okada_mode = 'S'\n",
    "\n",
    "# write this part in the input file\n",
    "if(sorg_identifier!= 5):\n",
    "    f.write(str(sorg_identifier)+'\\n')\n",
    "else:\n",
    "    f.write(str(sorg_identifier)+' '+okada_mode+'\\n')\n",
    "       \n",
    "for k in range(len(bounds)):\n",
    "    row = str(list(bounds[k])[0])+'\\t'+str(list(bounds[k])[1])+'\\n'\n",
    "    f.write(row)"
   ]
  },
  {
   "cell_type": "markdown",
   "metadata": {
    "tags": []
   },
   "source": [
    "## VSM settings\n",
    "\n",
    "### Inversion algorithms\n",
    "There are two inversion tools included in VSM\n",
    "- **NA** is the **Neighbourhood Algorithm**, a global optimizer with sampling based on the Voronoi cells theory (Sambridge, 1999). The parameters needed are:\n",
    "    - number of samples at each iteration `sampl1`\n",
    "    - number of re-samples from each iteration `sampl2`\n",
    "    - number of iterations `sampl3`\n",
    "- **BI** is the **Bayesian Inference**, based on the Bayes theory and MCMC sampling. The parameters needed are:\n",
    "    - number of random walks `sampl1`\n",
    "    - number of steps for each random walk `sampl2`"
   ]
  },
  {
   "cell_type": "code",
   "execution_count": null,
   "metadata": {},
   "outputs": [],
   "source": [
    "# inversion choice NA = 0 BI = 1\n",
    "inversion_choice = 0\n",
    "# accordingly define the sampling parameters\n",
    "sampl1 = 1000\n",
    "sampl2 = 300\n",
    "sampl3 = 10\n",
    "f.write(str(inversion_choice)+'\\n')\n",
    "if(inversion_choice == 0):\n",
    "    f.write(str(sampl1)+' '+str(sampl2)+'\\n')\n",
    "    f.write(str(sampl3)+'\\n')\n",
    "else:\n",
    "    f.write(str(sampl1)+'\\n')\n",
    "    f.write(str(sampl2)+'\\n')"
   ]
  },
  {
   "cell_type": "markdown",
   "metadata": {},
   "source": [
    "### Plots\n",
    "VSM plots the 1D and 2D parameters distributions. Also, the number of burn-in (i.e., excluded) samples can be defined, considering that at the beginning both methods are sampling low probability models also. If no plots are desired, set the number of burn-in to `-1`"
   ]
  },
  {
   "cell_type": "code",
   "execution_count": null,
   "metadata": {},
   "outputs": [],
   "source": [
    "# Number of burn-in models. Default is 2000. No plots for -1\n",
    "num_skip = 1000\n",
    "f.write(str(num_skip)+'\\n');"
   ]
  },
  {
   "cell_type": "code",
   "execution_count": null,
   "metadata": {},
   "outputs": [],
   "source": [
    "# END of settings for the VSM input!\n",
    "f.close()"
   ]
  },
  {
   "cell_type": "markdown",
   "metadata": {},
   "source": [
    "## And now?\n",
    "Now the VSM input is stored in the specified folder and ready to be used in a VSM run.\n",
    "VSM may be launched by\n",
    "- Jupyter Notebook, e.g., run the following cells or VSM_utilities.ipynb\n",
    "- Python script, e.g., VSM_test.py\n",
    "- Graphical User Interface VSM_GUI.py\n",
    "\n",
    "Also consider VSM_utilities.py and/or VSM_utilities.ipynb for post-processing and further analysis."
   ]
  },
  {
   "cell_type": "code",
   "execution_count": null,
   "metadata": {},
   "outputs": [],
   "source": [
    "#import sys\n",
    "#sys.path.append('path-to-VSM-folder')\n",
    "\n",
    "import VSM"
   ]
  },
  {
   "cell_type": "code",
   "execution_count": null,
   "metadata": {},
   "outputs": [],
   "source": [
    "# Read VSM input\n",
    "VSM.read_VSM_settings(os.path.join(folder_inout,filename_in))"
   ]
  },
  {
   "cell_type": "code",
   "execution_count": null,
   "metadata": {},
   "outputs": [],
   "source": [
    "# Run VSM\n",
    "VSM.iVSM()"
   ]
  }
 ],
 "metadata": {
  "kernelspec": {
   "display_name": "Python 3 (ipykernel)",
   "language": "python",
   "name": "python3"
  },
  "language_info": {
   "codemirror_mode": {
    "name": "ipython",
    "version": 3
   },
   "file_extension": ".py",
   "mimetype": "text/x-python",
   "name": "python",
   "nbconvert_exporter": "python",
   "pygments_lexer": "ipython3",
   "version": "3.10.4"
  }
 },
 "nbformat": 4,
 "nbformat_minor": 4
}
