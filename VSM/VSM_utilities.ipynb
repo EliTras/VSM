{
 "cells": [
  {
   "cell_type": "markdown",
   "metadata": {},
   "source": [
    "<img src=\"VSM_logo.gif\" width=\"500\" align=\"center\">"
   ]
  },
  {
   "cell_type": "markdown",
   "metadata": {
    "tags": []
   },
   "source": [
    "# VSM - Volcanic and Seismic source Modelling\n",
    "### Version 1.0\n",
    "VSM is a Python tool to perform inversions of geodetic data.\n",
    "\n",
    "This Notebook runs VSM from the input file already created. It also contains code to compute volume variations, dislocation vertices and additional plots. No need to run VSM if you want just to compute the volume variation of a source or create plots. Just make sure to run the first cell at the beginning. \\\n",
    "Use https://github.com/EliTras/VSM/blob/main/VSM/VSM_writeinput.ipynb for step-by-step instructions to create an input file, or launch the VSM GUI.\n",
    "\n",
    "**Code** https://github.com/EliTras/VSM \\\n",
    "**License** https://github.com/EliTras/VSM/blob/main/license.lic"
   ]
  },
  {
   "cell_type": "markdown",
   "metadata": {},
   "source": [
    "----\n",
    "Run the next cell in any case!"
   ]
  },
  {
   "cell_type": "code",
   "execution_count": null,
   "metadata": {
    "scrolled": true
   },
   "outputs": [],
   "source": [
    "import os\n",
    "#import sys\n",
    "#sys.path.append('path-to-VSM-folder')\n",
    "import VSM\n",
    "import VSM_utilities as VSMU\n",
    "\n",
    "import numpy as np\n",
    "import pandas as pd\n",
    "import matplotlib\n",
    "import matplotlib.pyplot as plt\n",
    "import cartopy.crs as ccrs"
   ]
  },
  {
   "cell_type": "markdown",
   "metadata": {
    "tags": []
   },
   "source": [
    "## Launch VSM\n",
    "\n",
    "No need to run the following cells if you want to do post-processing. Just go to **Utilities**"
   ]
  },
  {
   "cell_type": "markdown",
   "metadata": {},
   "source": [
    "#### Insert input file"
   ]
  },
  {
   "cell_type": "code",
   "execution_count": null,
   "metadata": {},
   "outputs": [],
   "source": [
    "folder_work = '../USECASE/mogi1NA'\n",
    "\n",
    "filename_in = 'VSM_input_mogi.txt'"
   ]
  },
  {
   "cell_type": "markdown",
   "metadata": {},
   "source": [
    "#### Read all inputs to populate all variables of VSM"
   ]
  },
  {
   "cell_type": "code",
   "execution_count": null,
   "metadata": {
    "scrolled": true
   },
   "outputs": [],
   "source": [
    "VSM.read_VSM_settings(os.path.join(folder_work, filename_in))"
   ]
  },
  {
   "cell_type": "markdown",
   "metadata": {},
   "source": [
    "#### Launch the execution of VSM"
   ]
  },
  {
   "cell_type": "code",
   "execution_count": null,
   "metadata": {
    "scrolled": true
   },
   "outputs": [],
   "source": [
    "VSM.iVSM()"
   ]
  },
  {
   "cell_type": "markdown",
   "metadata": {
    "tags": []
   },
   "source": [
    "----------\n",
    "## Utilities\n",
    "\n",
    "Here are some utilities to compute the volume variation of the sources from their shape and overpressure vs shear modulus ratio ($\\Delta P/ \\mu$). Also, it computes the vertices of the fault/dike.\n",
    "\n",
    "In particular\n",
    "- Volume variation of the finite volume sphere\n",
    "- Volume variation of the finite volume spheroid\n",
    "- Volume variation of the sill in point-source approximation\n",
    "- Rectangular dislocation vertices and trace\n",
    "\n",
    "Hint: just run the box you need!\n",
    "\n",
    "**Bibliography**\n",
    "\n",
    "Amoruso, A., Crescentini, L. (2013). Analytical models of volcanic ellipsoidal expansion sources. Ann. Geophys., https://doi.org/10.4401/ag-6441\n",
    "\n",
    "Battaglia, M., Cervelli, P.F., Murray, J.R. (2013). Modeling Crustal Deformation near Active Faults and Volcanic Centers—A  Catalog of Deformation Models, Book 13, Volcanic Monitoring, USGS. \n",
    "\n",
    "Okada, Y. (1985). Surface deformation due to shear and tensile faults in a half-space. B. Seismol. Soc. Am. 75, 1135-1154."
   ]
  },
  {
   "cell_type": "markdown",
   "metadata": {},
   "source": [
    "#### Volume variation of the spheroid\n",
    "Define semi-major axis, $\\Delta P/ \\mu$ and ratio between axes (ratio < 1)"
   ]
  },
  {
   "cell_type": "code",
   "execution_count": null,
   "metadata": {},
   "outputs": [],
   "source": [
    "a = 1300\n",
    "dP_mu = 7.5e-3\n",
    "ratio = 0.3\n",
    "\n",
    "dVol = VSMU.volume_var_yang(dP_mu,a,ratio)\n",
    "print('Volume variation of the finite volume spheroid',dVol/1e6, '10e6 m3')"
   ]
  },
  {
   "cell_type": "markdown",
   "metadata": {},
   "source": [
    "#### Volume variation of the sphere\n",
    "Define radius, $\\Delta P/ \\mu$ and depth"
   ]
  },
  {
   "cell_type": "code",
   "execution_count": null,
   "metadata": {},
   "outputs": [],
   "source": [
    "radius = 800\n",
    "dP_mu = 3.1e-3\n",
    "depth = 2550\n",
    "    \n",
    "dVol = VSMU.volume_var_mctigue(dP_mu,radius,depth)\n",
    "print('Volume variation of the finite volume sphere',dVol/1e6, '10e6 m3')"
   ]
  },
  {
   "cell_type": "markdown",
   "metadata": {},
   "source": [
    "#### Volume variation of the penny-shaped crack\n",
    "Define radius, $\\Delta P/ \\mu$ and Poisson Coefficient"
   ]
  },
  {
   "cell_type": "code",
   "execution_count": null,
   "metadata": {},
   "outputs": [],
   "source": [
    "# holds for depth/radius > 2 or 2.5all\n",
    "radius = 820\n",
    "dP_mu = 5.94e-3\n",
    "Poisson = 0.25\n",
    "\n",
    "dVol = VSMU.volume_var_penny(dP_mu,radius,Poisson)\n",
    "print('Volume variation of the penny-shaped crack',dVol/1e6,' 10e6 m3')"
   ]
  },
  {
   "cell_type": "markdown",
   "metadata": {},
   "source": [
    "#### Vertices of the dislocation from the top left corner\n",
    "Define Top Left Corner (TLC) coordinates, length, width, strike and dip of the plane. Obtain Bottom Left Corner (BLT), Bottom Right Corner (BRC), Top Right Corner (TRC), and the Trace Left & Right coordinates"
   ]
  },
  {
   "cell_type": "code",
   "execution_count": null,
   "metadata": {},
   "outputs": [],
   "source": [
    "TLC = [7.48873e+05,9.82e+06,2.21526e+03]\n",
    "length = 9000.\n",
    "width  = 4000.\n",
    "strike = 180.\n",
    "dip    = 83.\n",
    "    \n",
    "vert,trace = VSMU.fault_vertices(TLC,length,width,strike,dip)\n",
    "print('Fault vertices ---------------------')\n",
    "print('Fault TLC',vert[0])\n",
    "print('Fault BLC',vert[1])\n",
    "print('Fault BRC',vert[2])\n",
    "print('Fault TRC',vert[3])\n",
    "print('Trace ------------------------------')\n",
    "print('Trace Left', trace[0])\n",
    "print('Trace Right',trace[1])"
   ]
  },
  {
   "cell_type": "markdown",
   "metadata": {},
   "source": [
    "----\n",
    "## Plots\n",
    "\n",
    "Here are two code blocks to plot\n",
    "- 1D and 2D statistics of the parameters searched using the corner library. May be used to change the number of burn-in models\n",
    "- Quick plot of the comparisons among oberved data, synthetic data and residuals."
   ]
  },
  {
   "cell_type": "markdown",
   "metadata": {},
   "source": [
    "#### Plot 1D and 2D statistics\n",
    "It creates the same plot as VSM. May be used to change the number of burn-in models.\n",
    "\n",
    "Should set\n",
    "- working folder\n",
    "- file with the ensample of models generated\n",
    "- file of mean or best model (based on the inversion chosen in VSM)\n",
    "- burn-in models"
   ]
  },
  {
   "cell_type": "code",
   "execution_count": null,
   "metadata": {},
   "outputs": [],
   "source": [
    "# PLOT 1D - 2D statistics via corner\n",
    "folder = '../USECASE/mogi1NA'\n",
    "f_models ='VSM_models.csv'\n",
    "# best (for NA) or mean (for BI)\n",
    "f_truths = 'VSM_best.csv'\n",
    "f_plot = 'VSM_plot1D2D_new.png'  #can use pdf or png extension\n",
    "nskip = 1000\n",
    "\n",
    "df = pd.read_csv(os.path.join(folder,f_models))\n",
    "tf = pd.read_csv(os.path.join(folder,f_truths))\n",
    "nunk = np.size(tf)\n",
    "    \n",
    "if(f_truths[4:8] == 'best'):\n",
    "    dd = df.iloc[:,2:] # NA\n",
    "    tt = tf.values.reshape(nunk) #NA\n",
    "else:\n",
    "    dd = df #BI\n",
    "    tp = tf.values.reshape(nunk)\n",
    "    tt = tp[::2] #BI\n",
    "    \n",
    "VSM.plot_1D_2D(dd, tt, dd.columns, os.path.join(folder,f_plot), nskip)"
   ]
  },
  {
   "cell_type": "markdown",
   "metadata": {},
   "source": [
    "#### Plot Data, model and residuals\n",
    "\n",
    "The following code creates 3 plots automatically scaled to data extension. The figure is composed of three panels: observed data, modelled data (from optimal model) and residuals, e.g., data minus modelled data.\n",
    "Should set\n",
    "- working folder\n",
    "- file with synthetic data. It works for SAR and levelling data as it takes the third column of the synth file as modelled data. Should be rearranged for other geodetic data.\n",
    "- UTM zone"
   ]
  },
  {
   "cell_type": "code",
   "execution_count": null,
   "metadata": {
    "tags": []
   },
   "outputs": [],
   "source": [
    "folder_inout = '../USECASE/mogi1NA'\n",
    "synth_file = 'VSM_synth_sar2.csv'\n",
    "out_file = 'VSM_res_sar2.png'\n",
    "\n",
    "# UTM zone\n",
    "zone = 33\n",
    "southern_hemisphere = False"
   ]
  },
  {
   "cell_type": "code",
   "execution_count": null,
   "metadata": {},
   "outputs": [],
   "source": [
    "# My data in UTM coordinates\n",
    "db_sar = pd.read_csv(os.path.join(folder_inout,synth_file))\n",
    "d_sar = db_sar.values\n",
    "\n",
    "# Split into east and north coordinates\n",
    "east, north = d_sar[:,0],d_sar[:,1]\n",
    "data = d_sar[:,3]\n",
    "synth = d_sar[:,2]\n",
    "res = data - synth\n",
    "\n",
    "dmax = max(max(data),max(synth))\n",
    "dmin = min(min(data),min(synth))\n",
    "resmax = max(res)\n",
    "resmin = min(res)\n",
    "resext = max(resmax, -resmin)\n",
    "\n",
    "# Define the projection\n",
    "#crs=ccrs.PlateCarree()\n",
    "mycrs=ccrs.UTM(zone=zone, southern_hemisphere=southern_hemisphere)\n",
    "\n",
    "fig=plt.figure(figsize=(15,6))\n",
    "palette='viridis' #'RdYlBu_r'\n",
    "\n",
    "## PANEL DATA ##########\n",
    "ax = plt.subplot(131, projection=mycrs)\n",
    "ax.coastlines(resolution='10m')\n",
    "img = ax.scatter(east, north,5, data,cmap=palette, vmin=dmin, vmax = dmax)\n",
    "#palette\n",
    "cbar = plt.colorbar(img,orientation='horizontal')\n",
    "cbar.set_label('LOS (m)')\n",
    "# Get the extent of the axis\n",
    "extent = ax.get_extent()\n",
    "# Attempt to set the axis extent\n",
    "ax.set_extent(extent, crs=mycrs)\n",
    "plt.title('Data',fontsize = 16, pad=10)\n",
    "\n",
    "## PANEL MODEL ##########\n",
    "ax = plt.subplot(132, projection=mycrs)\n",
    "ax.coastlines(resolution='10m')\n",
    "img = ax.scatter(east, north,5, synth,cmap=palette, vmin=dmin, vmax = dmax)\n",
    "#palette\n",
    "cbar = plt.colorbar(img,orientation='horizontal')\n",
    "cbar.set_label('LOS (m)')\n",
    "# Get the extent of the axis\n",
    "extent = ax.get_extent()\n",
    "# Attempt to set the axis extent\n",
    "ax.set_extent(extent, crs=mycrs)\n",
    "plt.title('Model',fontsize = 16, pad=10)\n",
    "\n",
    "## PANEL RESIDUALS ##########\n",
    "ax = plt.subplot(133, projection=mycrs)\n",
    "ax.coastlines(resolution='10m')\n",
    "img = ax.scatter(east, north,5, res,cmap=\"bwr\",vmin=resext, vmax = -resext)\n",
    "#palette\n",
    "cbar = plt.colorbar(img,orientation='horizontal')\n",
    "cbar.set_label('LOS (m)')\n",
    "# Get the extent of the axis\n",
    "extent = ax.get_extent()\n",
    "# Attempt to set the axis extent\n",
    "ax.set_extent(extent, crs=mycrs)\n",
    "# Title for plot\n",
    "plt.title('Residual',fontsize = 16, pad=10)\n",
    "\n",
    "plt.savefig(os.path.join(folder_inout,out_file))\n",
    "plt.show()"
   ]
  }
 ],
 "metadata": {
  "kernelspec": {
   "display_name": "Python 3 (ipykernel)",
   "language": "python",
   "name": "python3"
  },
  "language_info": {
   "codemirror_mode": {
    "name": "ipython",
    "version": 3
   },
   "file_extension": ".py",
   "mimetype": "text/x-python",
   "name": "python",
   "nbconvert_exporter": "python",
   "pygments_lexer": "ipython3",
   "version": "3.10.4"
  }
 },
 "nbformat": 4,
 "nbformat_minor": 4
}
